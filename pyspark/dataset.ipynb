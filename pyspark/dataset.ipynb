{
 "cells": [
  {
   "cell_type": "code",
   "execution_count": 2,
   "id": "d0850de6",
   "metadata": {},
   "outputs": [],
   "source": [
    "import pandas as pd\n",
    "import numpy as np"
   ]
  },
  {
   "cell_type": "code",
   "execution_count": 3,
   "id": "979c40f7",
   "metadata": {},
   "outputs": [
    {
     "data": {
      "text/html": [
       "<div>\n",
       "<style scoped>\n",
       "    .dataframe tbody tr th:only-of-type {\n",
       "        vertical-align: middle;\n",
       "    }\n",
       "\n",
       "    .dataframe tbody tr th {\n",
       "        vertical-align: top;\n",
       "    }\n",
       "\n",
       "    .dataframe thead th {\n",
       "        text-align: right;\n",
       "    }\n",
       "</style>\n",
       "<table border=\"1\" class=\"dataframe\">\n",
       "  <thead>\n",
       "    <tr style=\"text-align: right;\">\n",
       "      <th></th>\n",
       "      <th>id</th>\n",
       "      <th>timestamp</th>\n",
       "      <th>action</th>\n",
       "      <th>details</th>\n",
       "      <th>actorUserId</th>\n",
       "    </tr>\n",
       "  </thead>\n",
       "  <tbody>\n",
       "    <tr>\n",
       "      <th>0</th>\n",
       "      <td>3cce991e-a1e1-4ad1-88cd-cb437d37d31f</td>\n",
       "      <td>2025-07-01 10:54:55.304+01</td>\n",
       "      <td>USER_CREATED</td>\n",
       "      <td>{\"userId\":\"59c044f9-fd9c-4a06-ada9-e0a5ce7a24b...</td>\n",
       "      <td>59c044f9-fd9c-4a06-ada9-e0a5ce7a24b1</td>\n",
       "    </tr>\n",
       "    <tr>\n",
       "      <th>1</th>\n",
       "      <td>b0483d7a-afa2-4092-a88c-4bb392ade477</td>\n",
       "      <td>2025-07-01 10:54:55.376+01</td>\n",
       "      <td>USER_CREATED</td>\n",
       "      <td>{\"userId\":\"5b778a1b-4d1b-47ca-89f0-d42b3c969bb...</td>\n",
       "      <td>5b778a1b-4d1b-47ca-89f0-d42b3c969bb2</td>\n",
       "    </tr>\n",
       "    <tr>\n",
       "      <th>2</th>\n",
       "      <td>7234cab2-76d4-4030-b541-2385fc73dc8d</td>\n",
       "      <td>2025-07-01 10:54:55.442+01</td>\n",
       "      <td>USER_CREATED</td>\n",
       "      <td>{\"userId\":\"9713187c-3fb0-40ea-a67d-18372530672...</td>\n",
       "      <td>9713187c-3fb0-40ea-a67d-183725306722</td>\n",
       "    </tr>\n",
       "    <tr>\n",
       "      <th>3</th>\n",
       "      <td>b2f274e8-fb1a-49fd-8fa2-bed7df15b3cb</td>\n",
       "      <td>2025-07-01 10:54:55.509+01</td>\n",
       "      <td>USER_CREATED</td>\n",
       "      <td>{\"userId\":\"f6fa4fbc-84c6-4288-905c-919fb256d43...</td>\n",
       "      <td>f6fa4fbc-84c6-4288-905c-919fb256d439</td>\n",
       "    </tr>\n",
       "    <tr>\n",
       "      <th>4</th>\n",
       "      <td>0dbb8351-c383-4c31-89dc-3e37e2459681</td>\n",
       "      <td>2025-07-01 10:54:55.584+01</td>\n",
       "      <td>USER_CREATED</td>\n",
       "      <td>{\"userId\":\"fe664457-1859-4f6d-9697-bb46925d6ee...</td>\n",
       "      <td>fe664457-1859-4f6d-9697-bb46925d6ee4</td>\n",
       "    </tr>\n",
       "  </tbody>\n",
       "</table>\n",
       "</div>"
      ],
      "text/plain": [
       "                                     id                   timestamp  \\\n",
       "0  3cce991e-a1e1-4ad1-88cd-cb437d37d31f  2025-07-01 10:54:55.304+01   \n",
       "1  b0483d7a-afa2-4092-a88c-4bb392ade477  2025-07-01 10:54:55.376+01   \n",
       "2  7234cab2-76d4-4030-b541-2385fc73dc8d  2025-07-01 10:54:55.442+01   \n",
       "3  b2f274e8-fb1a-49fd-8fa2-bed7df15b3cb  2025-07-01 10:54:55.509+01   \n",
       "4  0dbb8351-c383-4c31-89dc-3e37e2459681  2025-07-01 10:54:55.584+01   \n",
       "\n",
       "         action                                            details  \\\n",
       "0  USER_CREATED  {\"userId\":\"59c044f9-fd9c-4a06-ada9-e0a5ce7a24b...   \n",
       "1  USER_CREATED  {\"userId\":\"5b778a1b-4d1b-47ca-89f0-d42b3c969bb...   \n",
       "2  USER_CREATED  {\"userId\":\"9713187c-3fb0-40ea-a67d-18372530672...   \n",
       "3  USER_CREATED  {\"userId\":\"f6fa4fbc-84c6-4288-905c-919fb256d43...   \n",
       "4  USER_CREATED  {\"userId\":\"fe664457-1859-4f6d-9697-bb46925d6ee...   \n",
       "\n",
       "                            actorUserId  \n",
       "0  59c044f9-fd9c-4a06-ada9-e0a5ce7a24b1  \n",
       "1  5b778a1b-4d1b-47ca-89f0-d42b3c969bb2  \n",
       "2  9713187c-3fb0-40ea-a67d-183725306722  \n",
       "3  f6fa4fbc-84c6-4288-905c-919fb256d439  \n",
       "4  fe664457-1859-4f6d-9697-bb46925d6ee4  "
      ]
     },
     "execution_count": 3,
     "metadata": {},
     "output_type": "execute_result"
    }
   ],
   "source": [
    "data = pd.read_csv(\"../DATA/dlrols/dlrols_audit.csv\")\n",
    "data.head()"
   ]
  },
  {
   "cell_type": "code",
   "execution_count": 4,
   "id": "b26618bb",
   "metadata": {},
   "outputs": [
    {
     "name": "stdout",
     "output_type": "stream",
     "text": [
      "<class 'pandas.core.frame.DataFrame'>\n",
      "RangeIndex: 5816 entries, 0 to 5815\n",
      "Data columns (total 5 columns):\n",
      " #   Column       Non-Null Count  Dtype \n",
      "---  ------       --------------  ----- \n",
      " 0   id           5816 non-null   object\n",
      " 1   timestamp    5816 non-null   object\n",
      " 2   action       5816 non-null   object\n",
      " 3   details      5816 non-null   object\n",
      " 4   actorUserId  5816 non-null   object\n",
      "dtypes: object(5)\n",
      "memory usage: 227.3+ KB\n"
     ]
    }
   ],
   "source": [
    "data.info()"
   ]
  },
  {
   "cell_type": "code",
   "execution_count": null,
   "id": "18bf6095",
   "metadata": {},
   "outputs": [],
   "source": []
  }
 ],
 "metadata": {
  "kernelspec": {
   "display_name": "base",
   "language": "python",
   "name": "python3"
  },
  "language_info": {
   "codemirror_mode": {
    "name": "ipython",
    "version": 3
   },
   "file_extension": ".py",
   "mimetype": "text/x-python",
   "name": "python",
   "nbconvert_exporter": "python",
   "pygments_lexer": "ipython3",
   "version": "3.12.7"
  }
 },
 "nbformat": 4,
 "nbformat_minor": 5
}
